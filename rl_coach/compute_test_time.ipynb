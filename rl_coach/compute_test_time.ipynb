{
 "cells": [
  {
   "cell_type": "code",
   "execution_count": 3,
   "metadata": {},
   "outputs": [
    {
     "name": "stdout",
     "output_type": "stream",
     "text": [
      "Mean 1128.655172413793\n",
      "Std 549.7680209390962\n"
     ]
    }
   ],
   "source": [
    "import pandas as pd\n",
    "\n",
    "\n",
    "data = pd.read_csv(\"../experiments/eval_supreme/15_01_2022-09_14/worker_0.simple_rl_graph.main_level.main_level.agent_0.csv\").set_index(\"Episode #\")\n",
    "\n",
    "evaluation_reward = data.loc[range(1, 31), \"Evaluation Reward\"].dropna()\n",
    "\n",
    "print(\"Mean\", evaluation_reward.mean())\n",
    "print(\"Std\", evaluation_reward.std())"
   ]
  },
  {
   "cell_type": "code",
   "execution_count": 4,
   "metadata": {},
   "outputs": [
    {
     "name": "stdout",
     "output_type": "stream",
     "text": [
      "Mean 1219.1379310344828\n",
      "Std 540.7740301864892\n"
     ]
    }
   ],
   "source": [
    "import pandas as pd\n",
    "\n",
    "\n",
    "data = pd.read_csv(\"../experiments/eval_supreme_depth/15_01_2022-09_16/worker_0.simple_rl_graph.main_level.main_level.agent_0.csv\").set_index(\"Episode #\")\n",
    "\n",
    "evaluation_reward = data.loc[range(1, 31), \"Evaluation Reward\"].dropna()\n",
    "\n",
    "print(\"Mean\", evaluation_reward.mean())\n",
    "print(\"Std\", evaluation_reward.std())"
   ]
  },
  {
   "cell_type": "code",
   "execution_count": 5,
   "metadata": {},
   "outputs": [
    {
     "name": "stdout",
     "output_type": "stream",
     "text": [
      "Mean 1141.2413793103449\n",
      "Std 581.3832431103067\n"
     ]
    }
   ],
   "source": [
    "import pandas as pd\n",
    "\n",
    "\n",
    "data = pd.read_csv(\"../experiments/eval_supreme_depth_pix2pix/15_01_2022-09_25/worker_0.simple_rl_graph.main_level.main_level.agent_0.csv\").set_index(\"Episode #\")\n",
    "\n",
    "evaluation_reward = data.loc[range(1, 31), \"Evaluation Reward\"].dropna()\n",
    "\n",
    "print(\"Mean\", evaluation_reward.mean())\n",
    "print(\"Std\", evaluation_reward.std())"
   ]
  },
  {
   "cell_type": "code",
   "execution_count": 43,
   "metadata": {},
   "outputs": [
    {
     "name": "stdout",
     "output_type": "stream",
     "text": [
      "Mean 655.448275862069\n",
      "Std 236.6425251916148\n"
     ]
    }
   ],
   "source": [
    "import pandas as pd\n",
    "\n",
    "\n",
    "data = pd.read_csv(\"../../../experiments/eval_supreme_no_spawn/15_01_2022-09_09/worker_0.simple_rl_graph.main_level.main_level.agent_0.csv\").set_index(\"Episode #\")\n",
    "\n",
    "evaluation_reward = data.loc[range(1, 31), \"Evaluation Reward\"].dropna()\n",
    "\n",
    "print(\"Mean\", evaluation_reward.mean())\n",
    "print(\"Std\", evaluation_reward.std())"
   ]
  },
  {
   "cell_type": "code",
   "execution_count": 12,
   "metadata": {},
   "outputs": [
    {
     "name": "stdout",
     "output_type": "stream",
     "text": [
      "Mean 671.7931034482758\n",
      "Std 288.4668066210868\n"
     ]
    }
   ],
   "source": [
    "import pandas as pd\n",
    "\n",
    "data = pd.read_csv(\"../experiments/eval_supreme_no_spawn_depth/15_01_2022-09_22/worker_0.simple_rl_graph.main_level.main_level.agent_0.csv\").set_index(\"Episode #\")\n",
    "\n",
    "evaluation_reward = data.loc[range(1, 31), \"Evaluation Reward\"].dropna()\n",
    "\n",
    "print(\"Mean\", evaluation_reward.mean())\n",
    "print(\"Std\", evaluation_reward.std())"
   ]
  },
  {
   "cell_type": "code",
   "execution_count": 16,
   "metadata": {},
   "outputs": [
    {
     "name": "stdout",
     "output_type": "stream",
     "text": [
      "Mean 709.8275862068965\n",
      "Std 366.5217854532288\n"
     ]
    }
   ],
   "source": [
    "import pandas as pd\n",
    "\n",
    "data = pd.read_csv(\"../experiments/eval_supreme_no_spawn_depth_pix2pix/15_01_2022-09_44/worker_0.simple_rl_graph.main_level.main_level.agent_0.csv\").set_index(\"Episode #\")\n",
    "\n",
    "evaluation_reward = data.loc[range(1, 31), \"Evaluation Reward\"].dropna()\n",
    "\n",
    "print(\"Mean\", evaluation_reward.mean())\n",
    "print(\"Std\", evaluation_reward.std())"
   ]
  },
  {
   "cell_type": "code",
   "execution_count": 42,
   "metadata": {},
   "outputs": [],
   "source": [
    "epochs = []\n",
    "l1_losses = []\n",
    "with open('../experiments/pix2pix/loss_analyse.txt') as f:\n",
    "    last_epoch = None\n",
    "    for line in f.readlines():\n",
    "        epoch, raw_l1_loss = line.split(\",\")\n",
    "\n",
    "        epoch = float(epoch)\n",
    "        l1_loss = float(raw_l1_loss.replace(\"\\n\", \"\").replace(\" \", \"\"))\n",
    "\n",
    "        if last_epoch == epoch:\n",
    "            epoch += 0.5\n",
    "\n",
    "        epochs.append(epoch)\n",
    "        l1_losses.append(l1_loss)\n",
    "        last_epoch = epoch"
   ]
  },
  {
   "cell_type": "code",
   "execution_count": 43,
   "metadata": {},
   "outputs": [
    {
     "data": {
      "image/png": "[encoded data removed]",
      "text/plain": [
       "<Figure size 432x288 with 1 Axes>"
      ]
     },
     "metadata": {
      "needs_background": "light"
     },
     "output_type": "display_data"
    }
   ],
   "source": [
    "import matplotlib.pyplot as plt \n",
    "\n",
    "plt.plot(epochs, l1_losses)\n",
    "plt.show()"
   ]
  }
 ],
 "metadata": {
  "interpreter": {
   "hash": "53bda8cb968c96087bb40e969217cc7b62cdad3db0b2cd50a055e2bb61a3969e"
  },
  "kernelspec": {
   "display_name": "Python 3.6.15 64-bit ('env_container': venv)",
   "language": "python",
   "name": "python3"
  },
  "language_info": {
   "codemirror_mode": {
    "name": "ipython",
    "version": 3
   },
   "file_extension": ".py",
   "mimetype": "text/x-python",
   "name": "python",
   "nbconvert_exporter": "python",
   "pygments_lexer": "ipython3",
   "version": "3.6.15"
  },
  "orig_nbformat": 4
 },
 "nbformat": 4,
 "nbformat_minor": 2
}
